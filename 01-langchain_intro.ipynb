{
 "cells": [
  {
   "cell_type": "markdown",
   "metadata": {},
   "source": [
    "# Introduction à Langchain \n",
    "\n"
   ]
  },
  {
   "cell_type": "code",
   "execution_count": 1,
   "metadata": {},
   "outputs": [
    {
     "name": "stdout",
     "output_type": "stream",
     "text": [
      "Note: you may need to restart the kernel to use updated packages.\n"
     ]
    }
   ],
   "source": [
    "%pip install langchain langchain-openai langchain_mistralai openai python-dotenv -q"
   ]
  },
  {
   "cell_type": "markdown",
   "metadata": {},
   "source": [
    "### Le modèle de LLM\n",
    "\n",
    "Basiquement Langchain nécessite simplement d'instancier un `Runnable` pour le modèle de LLM et de l'invoquer directement\n",
    "\n",
    "Langchain fournit une intégration pour un grand nombre de [providers et de modèles](https://python.langchain.com/v0.2/docs/integrations/chat/). Elles partagent une interface commune, permettant de switcher facilement. Attention, tous les modèles ne supportent pas les mêmes fonctionnalités (streaming, structure json, usage de token, etc.)\n",
    "\n",
    "<img src=\"./assets/runnable_model.png\" alt=\"drawing\" width=\"400\"/>"
   ]
  },
  {
   "cell_type": "code",
   "execution_count": 3,
   "metadata": {},
   "outputs": [],
   "source": [
    "from langchain_openai import ChatOpenAI\n",
    "from dotenv import load_dotenv\n",
    "from os import getenv\n",
    "load_dotenv()\n",
    "\n",
    "llm_openai = ChatOpenAI(model=\"gpt-4o-mini\", api_key=getenv('OPENAI_API_KEY'))"
   ]
  },
  {
   "cell_type": "markdown",
   "metadata": {},
   "source": [
    "On peut invoquer le runnable (et donc le model directement).\n",
    "C'est une abstraction au dessus de :\n",
    "\n",
    "```python \n",
    "client = OpenAI(api_key=getenv('OPENAI_API_KEY'))\n",
    "chat_completion = client.chat.completions.create(\n",
    "    messages=[\n",
    "        {\n",
    "            \"role\": \"user\",\n",
    "            \"content\": \"Explique moi la théorie de la relativité en termes simples\",\n",
    "        }\n",
    "    ],\n",
    "    model=\"gpt-4o-mini\"\n",
    ")\n",
    "\n",
    "```"
   ]
  },
  {
   "cell_type": "code",
   "execution_count": 4,
   "metadata": {},
   "outputs": [
    {
     "data": {
      "text/plain": [
       "AIMessage(content=\"Hello! I'm just a computer program, so I don't have feelings, but I'm here and ready to help you. How can I assist you today?\", additional_kwargs={'refusal': None}, response_metadata={'token_usage': {'completion_tokens': 31, 'prompt_tokens': 14, 'total_tokens': 45, 'completion_tokens_details': {'accepted_prediction_tokens': 0, 'audio_tokens': 0, 'reasoning_tokens': 0, 'rejected_prediction_tokens': 0}, 'prompt_tokens_details': {'audio_tokens': 0, 'cached_tokens': 0}}, 'model_name': 'gpt-4o-mini-2024-07-18', 'system_fingerprint': 'fp_72ed7ab54c', 'finish_reason': 'stop', 'logprobs': None}, id='run-d29a22f8-dad8-4ff4-b8dc-eb3697d48ca4-0', usage_metadata={'input_tokens': 14, 'output_tokens': 31, 'total_tokens': 45, 'input_token_details': {'audio': 0, 'cache_read': 0}, 'output_token_details': {'audio': 0, 'reasoning': 0}})"
      ]
     },
     "execution_count": 4,
     "metadata": {},
     "output_type": "execute_result"
    }
   ],
   "source": [
    "response_4o_mini = llm_openai.invoke(\"Hello, how are you today?\")\n",
    "response_4o_mini"
   ]
  },
  {
   "cell_type": "markdown",
   "metadata": {},
   "source": [
    "La complétion consiste en un objet `AIMessage`\n",
    "* **content** - la complétion\n",
    "* **response_metadata** - Metadata additionnels. Par exemple: response headers, logprobs, token counts."
   ]
  },
  {
   "cell_type": "code",
   "execution_count": 19,
   "metadata": {},
   "outputs": [
    {
     "name": "stdout",
     "output_type": "stream",
     "text": [
      "Hello! I'm just a computer program, but I'm ready and here to help you. How can I assist you today?\n",
      "{'token_usage': {'completion_tokens': 24, 'prompt_tokens': 14, 'total_tokens': 38, 'completion_tokens_details': {'accepted_prediction_tokens': 0, 'audio_tokens': 0, 'reasoning_tokens': 0, 'rejected_prediction_tokens': 0}, 'prompt_tokens_details': {'audio_tokens': 0, 'cached_tokens': 0}}, 'model_name': 'gpt-4o-mini-2024-07-18', 'system_fingerprint': 'fp_72ed7ab54c', 'finish_reason': 'stop', 'logprobs': None}\n"
     ]
    }
   ],
   "source": [
    "print(response_4o_mini.content)\n",
    "print(response_4o_mini.response_metadata)"
   ]
  },
  {
   "cell_type": "markdown",
   "metadata": {},
   "source": [
    "Pour appeler un autre modèle, par exemple un de Mistral on switch simplement le modèle créé. Tout reste identique."
   ]
  },
  {
   "cell_type": "code",
   "execution_count": 5,
   "metadata": {},
   "outputs": [
    {
     "data": {
      "text/plain": [
       "AIMessage(content=\"Hello! I'm functioning as intended, thank you. How about you? How's your day going?\", additional_kwargs={}, response_metadata={'token_usage': {'prompt_tokens': 10, 'total_tokens': 33, 'completion_tokens': 23}, 'model': 'mistral-large-latest', 'finish_reason': 'stop'}, id='run-75ce1669-78e8-4283-ac74-19de825df17b-0', usage_metadata={'input_tokens': 10, 'output_tokens': 23, 'total_tokens': 33})"
      ]
     },
     "execution_count": 5,
     "metadata": {},
     "output_type": "execute_result"
    }
   ],
   "source": [
    "\n",
    "from langchain_mistralai import ChatMistralAI\n",
    "llm_mistral = ChatMistralAI(model=\"mistral-large-latest\", api_key=getenv('MISTRAL_API_KEY'))\n",
    "response_mistral = llm_mistral.invoke(\"Hello, how are you today?\")\n",
    "\n",
    "response_mistral"
   ]
  },
  {
   "cell_type": "code",
   "execution_count": 6,
   "metadata": {},
   "outputs": [
    {
     "name": "stdout",
     "output_type": "stream",
     "text": [
      "Hello! I'm functioning as intended, thank you. How about you? How's your day going?\n",
      "{'token_usage': {'prompt_tokens': 10, 'total_tokens': 33, 'completion_tokens': 23}, 'model': 'mistral-large-latest', 'finish_reason': 'stop'}\n"
     ]
    }
   ],
   "source": [
    "print(response_mistral.content)\n",
    "print(response_mistral.response_metadata)"
   ]
  },
  {
   "cell_type": "markdown",
   "metadata": {},
   "source": [
    "### Le prompt\n",
    "\n",
    "Nous avons invoqué le modèle en lui passant directement le prompt comme `string`. Très souvent, et encore plus lorsque l'on voudra *augmenter* le modèle, notre prompt n'est pas une chaîne en dure mais composée de pluseirus partie, certaines potentiellement variables.\n",
    "\n",
    "Typiquement le prompt se décompose de deux parties\n",
    "* La partie `system` ou `preprompt`, qui peut par exemple contenir des instructions pour le modèle (par exemple de formattage de la réponse),  \n",
    "* La partie `user` contenant la requête de l'utilisateur à proprement parlé."
   ]
  },
  {
   "cell_type": "code",
   "execution_count": null,
   "metadata": {},
   "outputs": [],
   "source": []
  }
 ],
 "metadata": {
  "kernelspec": {
   "display_name": ".venv",
   "language": "python",
   "name": "python3"
  },
  "language_info": {
   "codemirror_mode": {
    "name": "ipython",
    "version": 3
   },
   "file_extension": ".py",
   "mimetype": "text/x-python",
   "name": "python",
   "nbconvert_exporter": "python",
   "pygments_lexer": "ipython3",
   "version": "3.12.7"
  }
 },
 "nbformat": 4,
 "nbformat_minor": 2
}
