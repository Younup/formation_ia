{
 "cells": [
  {
   "cell_type": "markdown",
   "metadata": {},
   "source": [
    "# Introduction à Langchain \n",
    "\n"
   ]
  },
  {
   "cell_type": "markdown",
   "metadata": {},
   "source": [
    "### Dépendances et clé d'API"
   ]
  },
  {
   "cell_type": "code",
   "execution_count": 1,
   "metadata": {},
   "outputs": [],
   "source": [
    "#Décommenter sur Google Colab\n",
    "#%pip install langchain langchain-openai langchain_mistralai openai python-dotenv -q\n",
    "#from google.colab import userdata\n",
    "#api_key=userdata.get('OPENAI_API_KEY')\n",
    "\n",
    "\n",
    "#Décommenter en local\n",
    "from dotenv import load_dotenv\n",
    "from os import getenv\n",
    "load_dotenv()\n",
    "api_key= getenv(\"OPENAI_API_KEY\")"
   ]
  },
  {
   "cell_type": "markdown",
   "metadata": {},
   "source": [
    "### Le modèle de LLM\n",
    "\n",
    "Basiquement Langchain nécessite simplement d'instancier un `Runnable` pour le modèle de LLM et de l'invoquer directement\n",
    "\n",
    "Langchain fournit une intégration pour un grand nombre de [providers et de modèles](https://python.langchain.com/v0.2/docs/integrations/chat/). Elles partagent une interface commune, permettant de switcher facilement. Attention, tous les modèles ne supportent pas les mêmes fonctionnalités (streaming, structure json, usage de token, etc.)\n",
    "\n",
    "<img src=\"./assets/runnable_model.png\" alt=\"drawing\" width=\"400\"/>"
   ]
  },
  {
   "cell_type": "code",
   "execution_count": 3,
   "metadata": {},
   "outputs": [],
   "source": [
    "from langchain_openai import ChatOpenAI\n",
    "\n",
    "llm_openai = ChatOpenAI(model=\"gpt-4o-mini\", api_key=getenv('OPENAI_API_KEY'))\n",
    "\n",
    "# Approche générique équivalente\n",
    "from langchain.chat_models import init_chat_model\n",
    "llm_openai = init_chat_model(\"gpt-4o-mini\", model_provider=\"openai\", api_key=getenv('OPENAI_API_KEY'))"
   ]
  },
  {
   "cell_type": "markdown",
   "metadata": {},
   "source": [
    "On peut invoquer le runnable (et donc le model directement).\n",
    "C'est une abstraction au dessus de `client.chat.completions.create`"
   ]
  },
  {
   "cell_type": "code",
   "execution_count": 4,
   "metadata": {},
   "outputs": [
    {
     "data": {
      "text/plain": [
       "AIMessage(content='Hello! I’m just a program, so I don’t have feelings, but I’m here and ready to assist you. How can I help you today?', additional_kwargs={'refusal': None}, response_metadata={'token_usage': {'completion_tokens': 32, 'prompt_tokens': 14, 'total_tokens': 46, 'completion_tokens_details': {'accepted_prediction_tokens': 0, 'audio_tokens': 0, 'reasoning_tokens': 0, 'rejected_prediction_tokens': 0}, 'prompt_tokens_details': {'audio_tokens': 0, 'cached_tokens': 0}}, 'model_name': 'gpt-4o-mini-2024-07-18', 'system_fingerprint': 'fp_34a54ae93c', 'id': 'chatcmpl-Bgt0zLoSfECsmi6wocGCTFFQPwFFA', 'service_tier': 'default', 'finish_reason': 'stop', 'logprobs': None}, id='run--88e76b27-c4f8-4ddc-a281-e88a45a4b73b-0', usage_metadata={'input_tokens': 14, 'output_tokens': 32, 'total_tokens': 46, 'input_token_details': {'audio': 0, 'cache_read': 0}, 'output_token_details': {'audio': 0, 'reasoning': 0}})"
      ]
     },
     "execution_count": 4,
     "metadata": {},
     "output_type": "execute_result"
    }
   ],
   "source": [
    "response_4o_mini = llm_openai.invoke(\"Hello, how are you today?\")\n",
    "response_4o_mini"
   ]
  },
  {
   "cell_type": "markdown",
   "metadata": {},
   "source": [
    "La complétion consiste en un objet `AIMessage`\n",
    "* **content** - la complétion\n",
    "* **response_metadata** - Metadata additionnels. Par exemple: response headers, logprobs, token counts."
   ]
  },
  {
   "cell_type": "code",
   "execution_count": 5,
   "metadata": {},
   "outputs": [
    {
     "name": "stdout",
     "output_type": "stream",
     "text": [
      "Hello! I’m just a program, so I don’t have feelings, but I’m here and ready to assist you. How can I help you today?\n",
      "{'token_usage': {'completion_tokens': 32, 'prompt_tokens': 14, 'total_tokens': 46, 'completion_tokens_details': {'accepted_prediction_tokens': 0, 'audio_tokens': 0, 'reasoning_tokens': 0, 'rejected_prediction_tokens': 0}, 'prompt_tokens_details': {'audio_tokens': 0, 'cached_tokens': 0}}, 'model_name': 'gpt-4o-mini-2024-07-18', 'system_fingerprint': 'fp_34a54ae93c', 'id': 'chatcmpl-Bgt0zLoSfECsmi6wocGCTFFQPwFFA', 'service_tier': 'default', 'finish_reason': 'stop', 'logprobs': None}\n"
     ]
    }
   ],
   "source": [
    "print(response_4o_mini.content)\n",
    "print(response_4o_mini.response_metadata)"
   ]
  },
  {
   "cell_type": "markdown",
   "metadata": {},
   "source": [
    "Pour appeler un autre modèle, par exemple un de Mistral on switch simplement le modèle créé. Tout reste identique."
   ]
  },
  {
   "cell_type": "code",
   "execution_count": 6,
   "metadata": {},
   "outputs": [
    {
     "data": {
      "text/plain": [
       "AIMessage(content=\"Hello! I'm functioning well, thank you. How about you? How's your day going?\", additional_kwargs={}, response_metadata={'token_usage': {'prompt_tokens': 10, 'total_tokens': 33, 'completion_tokens': 23}, 'model_name': 'mistral-large-latest', 'model': 'mistral-large-latest', 'finish_reason': 'stop'}, id='run--001f3a70-a511-4f28-b8e6-8ed15334e361-0', usage_metadata={'input_tokens': 10, 'output_tokens': 23, 'total_tokens': 33})"
      ]
     },
     "execution_count": 6,
     "metadata": {},
     "output_type": "execute_result"
    }
   ],
   "source": [
    "from langchain_mistralai import ChatMistralAI\n",
    "\n",
    "llm_mistral = ChatMistralAI(model=\"mistral-large-latest\", api_key=getenv('MISTRAL_API_KEY'))\n",
    "# Alternative générique équivalente\n",
    "# llm_mistral = init_chat_model(\"mistral-large-latest\", model_provider=\"mostralai\", api_key=getenv('MISTRAL_API_KEY'))\n",
    "\n",
    "response_mistral = llm_mistral.invoke(\"Hello, how are you today?\")\n",
    "\n",
    "\n",
    "\n",
    "response_mistral"
   ]
  },
  {
   "cell_type": "code",
   "execution_count": 7,
   "metadata": {},
   "outputs": [
    {
     "name": "stdout",
     "output_type": "stream",
     "text": [
      "Hello! I'm functioning well, thank you. How about you? How's your day going?\n",
      "{'token_usage': {'prompt_tokens': 10, 'total_tokens': 33, 'completion_tokens': 23}, 'model_name': 'mistral-large-latest', 'model': 'mistral-large-latest', 'finish_reason': 'stop'}\n"
     ]
    }
   ],
   "source": [
    "print(response_mistral.content)\n",
    "print(response_mistral.response_metadata)"
   ]
  },
  {
   "cell_type": "markdown",
   "metadata": {},
   "source": [
    "### Le prompt\n",
    "\n",
    "Nous avons invoqué le modèle en lui passant directement le prompt comme `string`. Très souvent, et encore plus lorsque l'on voudra *augmenter* le modèle, notre prompt n'est pas une chaîne en dure mais composée de plusieurs partie, certaines potentiellement variables.\n",
    "\n",
    "Typiquement le prompt se décompose de deux parties\n",
    "* La partie `system` ou `preprompt`, qui peut par exemple contenir des instructions pour le modèle (par exemple de formattage de la réponse),  \n",
    "* La partie `user` contenant la requête de l'utilisateur à proprement parlé."
   ]
  },
  {
   "cell_type": "code",
   "execution_count": 8,
   "metadata": {},
   "outputs": [],
   "source": [
    "from langchain.prompts import ChatPromptTemplate, PromptTemplate\n",
    "prompt = ChatPromptTemplate.from_messages([\n",
    "    (\"system\", \"Répond en turc.\"), #Ici des instructions pour le modèle, 'à l'insu' de l'utilisateur\n",
    "    (\"human\", \"{question}\"), # Ici la question de l'utilisateur, variable {question} à remplacer sera remplacée par la question de l'utilisateur\n",
    "])\n",
    "\n",
    "# Approche sans rôles via PromptTemplate\n",
    "prompt_2 = PromptTemplate.from_template(\n",
    "    \"Répond en turc à la question suivante : {question}\"\n",
    ")\n"
   ]
  },
  {
   "cell_type": "markdown",
   "metadata": {},
   "source": [
    "Un fois le prompt créé, on peut l'envoyer/le piper au modèle pour créer une chaîne de runnables `prompt -> model`."
   ]
  },
  {
   "cell_type": "code",
   "execution_count": 9,
   "metadata": {},
   "outputs": [
    {
     "data": {
      "text/plain": [
       "\"Fransa'nın başkenti Paris'tir.\""
      ]
     },
     "execution_count": 9,
     "metadata": {},
     "output_type": "execute_result"
    }
   ],
   "source": [
    "chain = prompt | llm_openai\n",
    "# La chaîne est invoquée avec un dictionnaire contenant les valeurs pour les variables du prompt\n",
    "response = chain.invoke({\"question\": \"What is the capital of France?\"})\n",
    "\n",
    "response.content"
   ]
  }
 ],
 "metadata": {
  "kernelspec": {
   "display_name": ".venv",
   "language": "python",
   "name": "python3"
  },
  "language_info": {
   "codemirror_mode": {
    "name": "ipython",
    "version": 3
   },
   "file_extension": ".py",
   "mimetype": "text/x-python",
   "name": "python",
   "nbconvert_exporter": "python",
   "pygments_lexer": "ipython3",
   "version": "3.12.3"
  }
 },
 "nbformat": 4,
 "nbformat_minor": 2
}
