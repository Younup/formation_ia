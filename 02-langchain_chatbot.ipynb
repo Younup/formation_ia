{
 "cells": [
  {
   "cell_type": "markdown",
   "metadata": {},
   "source": [
    "# Introduction à Langchain \n",
    "\n"
   ]
  },
  {
   "cell_type": "markdown",
   "metadata": {},
   "source": [
    "### Dépendances et clé d'API"
   ]
  },
  {
   "cell_type": "code",
   "execution_count": 1,
   "metadata": {},
   "outputs": [],
   "source": [
    "#Décommenter sur Google Colab\n",
    "#%pip install langchain langchain-openai langchain_mistralai openai python-dotenv -q\n",
    "#from google.colab import userdata\n",
    "#api_key=userdata.get('OPENAI_API_KEY')\n",
    "\n",
    "\n",
    "#Décommenter en local\n",
    "from dotenv import load_dotenv\n",
    "from os import getenv\n",
    "load_dotenv()\n",
    "api_key= getenv(\"OPENAI_API_KEY\")\n",
    "\n",
    "# Pièce n°1: le LLM\n",
    "from langchain_openai import ChatOpenAI\n",
    "llm_openai = ChatOpenAI(model=\"gpt-4o-mini\", api_key=api_key)\n",
    "\n",
    "# Pièce n°2: le prompt\n",
    "from langchain.prompts import ChatPromptTemplate\n",
    "prompt = ChatPromptTemplate.from_messages([\n",
    "    (\"system\", \"Répond en français.\"), #Ici des instructions pour le modèle, 'à l'insu' de l'utilisateur\n",
    "    (\"human\", \"{question}\"), # Ici la question de l'utilisateur, variable {question} à remplacer sera remplacée par la question de l'utilisateur\n",
    "])"
   ]
  },
  {
   "cell_type": "code",
   "execution_count": 2,
   "metadata": {},
   "outputs": [],
   "source": [
    "chatbot = prompt | llm_openai # On assemble le prompt et le LLM"
   ]
  },
  {
   "cell_type": "markdown",
   "metadata": {},
   "source": [
    "## Sans mémoire"
   ]
  },
  {
   "cell_type": "code",
   "execution_count": null,
   "metadata": {},
   "outputs": [
    {
     "name": "stdout",
     "output_type": "stream",
     "text": [
      "Bienvenue dans le chatbot ! Tape 'quit' pour arrêter.\n",
      "Chatbot: content=\"La question semble contenir une confusion. Paris est en fait la capitale de la France. Si tu as d'autres questions sur Paris ou sur la France, n'hésite pas à demander !\" additional_kwargs={'refusal': None} response_metadata={'token_usage': {'completion_tokens': 39, 'prompt_tokens': 25, 'total_tokens': 64, 'completion_tokens_details': {'accepted_prediction_tokens': 0, 'audio_tokens': 0, 'reasoning_tokens': 0, 'rejected_prediction_tokens': 0}, 'prompt_tokens_details': {'audio_tokens': 0, 'cached_tokens': 0}}, 'model_name': 'gpt-4o-mini-2024-07-18', 'system_fingerprint': 'fp_34a54ae93c', 'id': 'chatcmpl-BgtEPxCjDyvHvLIlYAmGiENdZxFpl', 'service_tier': 'default', 'finish_reason': 'stop', 'logprobs': None} id='run--c309d3b5-ffc5-44c5-9492-e7ae0d29295c-0' usage_metadata={'input_tokens': 25, 'output_tokens': 39, 'total_tokens': 64, 'input_token_details': {'audio': 0, 'cache_read': 0}, 'output_token_details': {'audio': 0, 'reasoning': 0}}\n",
      "Chatbot: content='Pourriez-vous préciser ce dont vous parlez concernant \"celle d\\'Italie\" ? Parlez-vous de la culture, de la cuisine, de l\\'histoire, ou d\\'un autre sujet spécifique ? Je serais ravi de vous aider !' additional_kwargs={'refusal': None} response_metadata={'token_usage': {'completion_tokens': 46, 'prompt_tokens': 22, 'total_tokens': 68, 'completion_tokens_details': {'accepted_prediction_tokens': 0, 'audio_tokens': 0, 'reasoning_tokens': 0, 'rejected_prediction_tokens': 0}, 'prompt_tokens_details': {'audio_tokens': 0, 'cached_tokens': 0}}, 'model_name': 'gpt-4o-mini-2024-07-18', 'system_fingerprint': 'fp_34a54ae93c', 'id': 'chatcmpl-BgtEuGTLfwd2i5KY5VoxD8Kt9YkDg', 'service_tier': 'default', 'finish_reason': 'stop', 'logprobs': None} id='run--c6d56db7-761b-4911-b317-a36e8cee0656-0' usage_metadata={'input_tokens': 22, 'output_tokens': 46, 'total_tokens': 68, 'input_token_details': {'audio': 0, 'cache_read': 0}, 'output_token_details': {'audio': 0, 'reasoning': 0}}\n",
      "Chatbot: Au revoir !\n"
     ]
    }
   ],
   "source": [
    "print(\"Bienvenue dans le chatbot ! Tape 'quit' pour arrêter.\")\n",
    "\n",
    "while True:\n",
    "    user_input = input(\"Vous: \")\n",
    "    if user_input.lower() in [\"quit\", \"exit\", \"q\"]:\n",
    "        print(\"Chatbot: Au revoir !\")\n",
    "        break\n",
    "    print(f\"User: {user_input}\")\n",
    "    response = chatbot.invoke({\"question\": user_input})\n",
    "    print(f\"Chatbot: {response.content}\")"
   ]
  },
  {
   "cell_type": "markdown",
   "metadata": {},
   "source": [
    "## Avec mémoire"
   ]
  },
  {
   "cell_type": "code",
   "execution_count": 8,
   "metadata": {},
   "outputs": [
    {
     "name": "stdout",
     "output_type": "stream",
     "text": [
      "Bienvenue dans le chatbotv2, avec de la mémoire ! Tape 'quit' pour arrêter.\n",
      "User: Quelle est la capitale de la France ?\n",
      "Chatbot: La capitale de la France est Paris.\n",
      "User: Et du maroc ?\n",
      "Chatbot: La capitale du Maroc est Rabat.\n",
      "Chatbot: Au revoir !\n"
     ]
    }
   ],
   "source": [
    "from langchain.memory import ChatMessageHistory\n",
    "from langchain_core.prompts import MessagesPlaceholder\n",
    "promptv2 = ChatPromptTemplate.from_messages([\n",
    "    (\"system\", \"Répond en français.\"), #Ici des instructions pour le modèle, 'à l'insu' de l'utilisateur\n",
    "    MessagesPlaceholder(variable_name=\"messages\"),\n",
    "    (\"human\", \"{question}\"), # Ici la question de l'utilisateur, variable {question} à remplacer sera remplacée par la question de l'utilisateur\n",
    "])\n",
    "\n",
    "chatbotv2 = promptv2 | llm_openai\n",
    "\n",
    "print(\"Bienvenue dans le chatbotv2, avec de la mémoire ! Tape 'quit' pour arrêter.\")\n",
    "chat_history = ChatMessageHistory()\n",
    "while True:\n",
    "    user_input = input(\"Vous: \")\n",
    "    if user_input.lower() in [\"quit\", \"exit\", \"q\"]:\n",
    "        print(\"Chatbot: Au revoir !\")\n",
    "        break\n",
    "    print(f\"User: {user_input}\", flush=True)\n",
    "    chat_history.add_user_message(user_input)\n",
    "    response = chatbotv2.invoke({\"question\": user_input, \"messages\": chat_history.messages})\n",
    "    print(f\"Chatbot: {response.content}\", flush=True)\n",
    "    chat_history.add_ai_message(response.content)"
   ]
  },
  {
   "cell_type": "code",
   "execution_count": null,
   "metadata": {},
   "outputs": [],
   "source": []
  }
 ],
 "metadata": {
  "kernelspec": {
   "display_name": ".venv",
   "language": "python",
   "name": "python3"
  },
  "language_info": {
   "codemirror_mode": {
    "name": "ipython",
    "version": 3
   },
   "file_extension": ".py",
   "mimetype": "text/x-python",
   "name": "python",
   "nbconvert_exporter": "python",
   "pygments_lexer": "ipython3",
   "version": "3.12.3"
  }
 },
 "nbformat": 4,
 "nbformat_minor": 2
}
