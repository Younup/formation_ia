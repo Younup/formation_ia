{
 "cells": [
  {
   "cell_type": "markdown",
   "metadata": {},
   "source": [
    "# Introduction à Langchain \n",
    "\n"
   ]
  },
  {
   "cell_type": "markdown",
   "metadata": {},
   "source": [
    "### Dépendances et clé d'API"
   ]
  },
  {
   "cell_type": "code",
   "execution_count": 1,
   "metadata": {},
   "outputs": [],
   "source": [
    "#Décommenter sur Google Colab\n",
    "#%pip install langchain langchain-openai langchain_mistralai openai python-dotenv -q\n",
    "#from google.colab import userdata\n",
    "#api_key=userdata.get('OPENAI_API_KEY')\n",
    "\n",
    "\n",
    "#Décommenter en local\n",
    "from dotenv import load_dotenv\n",
    "from os import getenv\n",
    "load_dotenv()\n",
    "api_key= getenv(\"OPENAI_API_KEY\")\n",
    "\n",
    "# Pièce n°1: le LLM\n",
    "from langchain_openai import ChatOpenAI\n",
    "llm_openai = ChatOpenAI(model=\"gpt-4o-mini\", api_key=api_key)\n",
    "\n",
    "# Pièce n°2: le prompt\n",
    "from langchain.prompts import ChatPromptTemplate\n",
    "prompt = ChatPromptTemplate.from_messages([\n",
    "    (\"system\", \"Répond en français.\"), #Ici des instructions pour le modèle, 'à l'insu' de l'utilisateur\n",
    "    (\"human\", \"{question}\"), # Ici la question de l'utilisateur, variable {question} à remplacer sera remplacée par la question de l'utilisateur\n",
    "])"
   ]
  },
  {
   "cell_type": "code",
   "execution_count": 2,
   "metadata": {},
   "outputs": [],
   "source": [
    "chatbot = prompt | llm_openai # On assemble le prompt et le LLM"
   ]
  },
  {
   "cell_type": "markdown",
   "metadata": {},
   "source": [
    "## Sans mémoire"
   ]
  },
  {
   "cell_type": "code",
   "execution_count": 3,
   "metadata": {},
   "outputs": [
    {
     "name": "stdout",
     "output_type": "stream",
     "text": [
      "Bienvenue dans le chatbot ! Tape 'quit' pour arrêter.\n",
      "User: \n",
      "Chatbot: Bonjour ! Comment puis-je vous aider aujourd'hui ?\n",
      "Chatbot: Au revoir !\n"
     ]
    }
   ],
   "source": [
    "print(\"Bienvenue dans le chatbot ! Tape 'quit' pour arrêter.\")\n",
    "\n",
    "while True:\n",
    "    user_input = input(\"Vous: \")\n",
    "    if user_input.lower() in [\"quit\", \"exit\", \"q\"]:\n",
    "        print(\"Chatbot: Au revoir !\")\n",
    "        break\n",
    "    print(f\"User: {user_input}\")\n",
    "    response = chatbot.invoke({\"question\": user_input})\n",
    "    print(f\"Chatbot: {response.content}\")"
   ]
  },
  {
   "cell_type": "markdown",
   "metadata": {},
   "source": [
    "## Avec mémoire"
   ]
  },
  {
   "cell_type": "code",
   "execution_count": null,
   "metadata": {},
   "outputs": [
    {
     "name": "stdout",
     "output_type": "stream",
     "text": [
      "Bienvenue dans le chatbotv2, avec de la mémoire ! Tape 'quit' pour arrêter.\n",
      "User: Quelle est la capitale de la France ?\n",
      "Chatbot: La capitale de la France est Paris.\n",
      "User: Et du maroc ?\n",
      "Chatbot: La capitale du Maroc est Rabat.\n",
      "Chatbot: Au revoir !\n"
     ]
    }
   ],
   "source": [
    "from langchain.memory import ChatMessageHistory\n",
    "from langchain_core.prompts import MessagesPlaceholder\n",
    "\n",
    "promptv2 = ChatPromptTemplate.from_messages([\n",
    "    (\"system\", \"Répond en français.\"), #Ici des instructions pour le modèle, 'à l'insu' de l'utilisateur\n",
    "    MessagesPlaceholder(variable_name=\"messages\"), # Ici on utilise un placeholder pour la mémoire, qui sera remplacé par l'historique des messages automatiquement par LangChain\n",
    "    (\"human\", \"{question}\"), # Ici la question de l'utilisateur, variable {question} à remplacer sera remplacée par la question de l'utilisateur\n",
    "])\n",
    "\n",
    "chatbotv2 = promptv2 | llm_openai\n",
    "\n",
    "print(\"Bienvenue dans le chatbotv2, avec de la mémoire ! Tape 'quit' pour arrêter.\")\n",
    "chat_history = ChatMessageHistory()\n",
    "while True:\n",
    "    user_input = input(\"Vous: \")\n",
    "    if user_input.lower() in [\"quit\", \"exit\", \"q\"]:\n",
    "        print(\"Chatbot: Au revoir !\")\n",
    "        break\n",
    "    print(f\"User: {user_input}\", flush=True)\n",
    "    chat_history.add_user_message(user_input)\n",
    "    response = chatbotv2.invoke({\"question\": user_input, \"messages\": chat_history.messages})\n",
    "    print(f\"Chatbot: {response.content}\", flush=True)\n",
    "    chat_history.add_ai_message(response.content)"
   ]
  },
  {
   "cell_type": "code",
   "execution_count": null,
   "metadata": {},
   "outputs": [],
   "source": []
  }
 ],
 "metadata": {
  "kernelspec": {
   "display_name": ".venv",
   "language": "python",
   "name": "python3"
  },
  "language_info": {
   "codemirror_mode": {
    "name": "ipython",
    "version": 3
   },
   "file_extension": ".py",
   "mimetype": "text/x-python",
   "name": "python",
   "nbconvert_exporter": "python",
   "pygments_lexer": "ipython3",
   "version": "3.12.3"
  }
 },
 "nbformat": 4,
 "nbformat_minor": 2
}
