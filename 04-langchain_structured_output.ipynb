{
 "cells": [
  {
   "cell_type": "markdown",
   "metadata": {},
   "source": [
    "# Structured ouput\n",
    "\n",
    "Les LLM ne se limitent pas à produire du texte libre : ils peuvent aussi générer des données structurées, comme du JSON.\n",
    "Cela permet de standardiser les réponses, faciliter leur exploitation par du code, ou les intégrer dans des systèmes existants.\n",
    "On peut ainsi extraire des informations, classer des contenus, ou même générer des objets conformes à un schéma métier.\n",
    "En exploitant cette capacité, on transforme un modèle de langage en outil d'automatisation robuste et interopérable."
   ]
  },
  {
   "cell_type": "markdown",
   "metadata": {},
   "source": [
    "### Dépendances et clé d'API"
   ]
  },
  {
   "cell_type": "code",
   "execution_count": null,
   "metadata": {},
   "outputs": [],
   "source": [
    "#Décommenter sur Google Colab\n",
    "#%pip install langchain langchain-openai langchain_mistralai openai python-dotenv -q\n",
    "#from google.colab import userdata\n",
    "#api_key=userdata.get('OPENAI_API_KEY')\n",
    "\n",
    "\n",
    "#Décommenter en local\n",
    "from dotenv import load_dotenv\n",
    "from os import getenv\n",
    "load_dotenv()\n",
    "api_key= getenv(\"OPENAI_API_KEY\")"
   ]
  },
  {
   "cell_type": "markdown",
   "metadata": {},
   "source": [
    "## Génération de données synthétiques\n",
    "\n",
    "Un premier cas d'usage est de faire générer des données synthétiques structurées au modèle, par exemple pour générer un liste d'utilisateur, de produit, etc."
   ]
  },
  {
   "cell_type": "code",
   "execution_count": 1,
   "metadata": {},
   "outputs": [
    {
     "data": {
      "text/plain": [
       "NPCSimpleList(npcs=[NPCSimple(name='Elda la Sage', race='Elfe', skills=['Connaissance des herbes', 'Magie élémentaire', 'Diplomatie']), NPCSimple(name='Brom le Brave', race='Nain', skills=['Combat à la hache', 'Forge', 'Résistance à la douleur']), NPCSimple(name='Lyra la Mystique', race='Humaine', skills=['Charme', 'Illusions', \"Détournement d'attention\"])])"
      ]
     },
     "execution_count": 1,
     "metadata": {},
     "output_type": "execute_result"
    }
   ],
   "source": [
    "from pydantic import BaseModel, Field\n",
    "from typing import List, Literal, Optional\n",
    "\n",
    "class NPCSimple(BaseModel):\n",
    "    name: str = Field(..., description=\"Nom du personnage\")\n",
    "    race: str = Field(..., description=\"Race du personnage\")\n",
    "    skills: List[str]\n",
    "\n",
    "class NPCSimpleList(BaseModel):\n",
    "    npcs: List[NPCSimple] = Field(..., description=\"Liste de personnages non-joueurs (PNJ)\")\n",
    "\n",
    "from langchain.chat_models import init_chat_model\n",
    "\n",
    "llm = init_chat_model(\"gpt-4o-mini\", model_provider=\"openai\").with_structured_output(NPCSimpleList)\n",
    "\n",
    "response = llm.invoke(\"Génère une liste de 3 personnages non-joueurs (PNJ) pour un jeu de rôle médiéval fantastique.\") \n",
    "\n",
    "response\n"
   ]
  },
  {
   "cell_type": "markdown",
   "metadata": {},
   "source": [
    "Beaucoup des subtilités permises par la définition de schéma `pydantic` (`zod`en js/ts) peuvent être exploités pour guider au mieux la génération."
   ]
  },
  {
   "cell_type": "code",
   "execution_count": 2,
   "metadata": {},
   "outputs": [
    {
     "name": "stderr",
     "output_type": "stream",
     "text": [
      "/home/bredda/workspace/formation_ia/.venv/lib/python3.12/site-packages/pydantic/_internal/_config.py:373: UserWarning: Valid config keys have changed in V2:\n",
      "* 'schema_extra' has been renamed to 'json_schema_extra'\n",
      "  warnings.warn(message, UserWarning)\n",
      "/home/bredda/workspace/formation_ia/.venv/lib/python3.12/site-packages/pydantic/_internal/_config.py:373: UserWarning: Valid config keys have changed in V2:\n",
      "* 'schema_extra' has been renamed to 'json_schema_extra'\n",
      "  warnings.warn(message, UserWarning)\n",
      "/home/bredda/workspace/formation_ia/.venv/lib/python3.12/site-packages/pydantic/_internal/_config.py:373: UserWarning: Valid config keys have changed in V2:\n",
      "* 'schema_extra' has been renamed to 'json_schema_extra'\n",
      "  warnings.warn(message, UserWarning)\n"
     ]
    },
    {
     "name": "stdout",
     "output_type": "stream",
     "text": [
      "npcs=[NPC(name='Aldrin le Sage', race='humain', role='mage', alignment='neutre', level=8, description='Un vieil homme avec une longue barbe blanche et des yeux perçants. Il porte une robe bleu nuit ornée de symboles mystiques.', skills=['magie élémentaire', 'alchemy', 'lore'], inventory=['grimoire ancien', 'poudre magique', 'cristal de mana'], backstory=\"Aldrin a consacré sa vie à l'étude des arcanes et a voyagé à travers de nombreux royaumes à la recherche de sagesse.\"), NPC(name='Gruk le Fort', race='orc', role='guerrier', alignment='bon', level=6, description='Un orc musclé avec une peau verte et des cicatrices, il porte une armure faite de cuir renforcé et brandit une hache imposante.', skills=['combat au corps à corps', 'résilience', 'tactique de bataille'], inventory=['hache massive', 'armure en cuir', 'potion de soin'], backstory=\"Gruk a été rejeté par son clan pour avoir défendu les innocents lors d'un raid, il se bat désormais pour protéger les faibles.\")]\n",
      "NPC: ('Aldrin le Sage',) - Gruk le Fort\n"
     ]
    }
   ],
   "source": [
    "\n",
    "\n",
    "# Pydantic\n",
    "class NPC(BaseModel):\n",
    "    name: str = Field(..., description=\"Nom du personnage\")\n",
    "    race: Literal[\"humain\", \"elfe\", \"nain\", \"orc\", \"gobelin\", \"tieffelin\", \"dragonide\"] = Field(\n",
    "        ..., description=\"Race du personnage\"\n",
    "    )\n",
    "    role: Literal[\"marchand\", \"guerrier\", \"mage\", \"voleur\", \"barde\", \"alchimiste\", \"prêtre\"] = Field(\n",
    "        ..., description=\"Rôle ou classe du personnage\"\n",
    "    )\n",
    "    alignment: Literal[\"bon\", \"neutre\", \"mauvais\"] = Field(..., description=\"Alignement moral\")\n",
    "    level: int = Field(..., ge=1, le=20, description=\"Niveau de puissance du personnage\")\n",
    "    description: Optional[str] = Field(None, description=\"Courte description physique et comportementale\")\n",
    "    skills: List[str] = Field(default_factory=list, description=\"Compétences principales du personnage\")\n",
    "    inventory: List[str] = Field(default_factory=list, description=\"Objets portés par le personnage\")\n",
    "    backstory: Optional[str] = Field(None, description=\"Origine ou histoire personnelle du personnage\")\n",
    "\n",
    "    class Config:\n",
    "        schema_extra = {\n",
    "            \"example\": {\n",
    "                \"name\": \"Thalior Ombrecendre\",\n",
    "                \"race\": \"elfe\",\n",
    "                \"role\": \"assassin\",\n",
    "                \"alignment\": \"neutre\",\n",
    "                \"level\": 7,\n",
    "                \"description\": \"Un elfe aux yeux sombres, silencieux et agile.\",\n",
    "                \"skills\": [\"furtivité\", \"armes légères\", \"persuasion\"],\n",
    "                \"inventory\": [\"dague empoisonnée\", \"cape d'ombre\", \"bourse vide\"],\n",
    "                \"backstory\": \"Ancien espion au service du royaume déchu d’Ardor. Il vend aujourd’hui ses services au plus offrant.\"\n",
    "            }\n",
    "        }\n",
    "\n",
    "class NPCList(BaseModel):\n",
    "    npcs: List[NPC] = Field(..., description=\"Liste de personnages non-joueurs (PNJ)\")\n",
    "\n",
    "llm = init_chat_model(\"gpt-4o-mini\", model_provider=\"openai\").with_structured_output(NPCList)\n",
    "\n",
    "response = llm.invoke(\"Génère une liste de 2 personnages non-joueurs (PNJ) pour un jeu de rôle médiéval fantastique.\") \n",
    "\n",
    "list_npc = NPCList.model_validate(response)\n",
    "\n",
    "print(list_npc)\n",
    "print(f\"NPC: {list_npc.npcs[0].name,} - {list_npc.npcs[1].name}\")\n",
    "\n"
   ]
  },
  {
   "cell_type": "markdown",
   "metadata": {},
   "source": [
    "## Extraction de données en input"
   ]
  },
  {
   "cell_type": "code",
   "execution_count": 4,
   "metadata": {},
   "outputs": [
    {
     "name": "stdout",
     "output_type": "stream",
     "text": [
      "Type: incident, Priorité: critique, Sujet: Accès impossible à l’intranet - Erreur 502 Bad Gateway, Service: IT, Action requise: True\n",
      "Type: demande, Priorité: moyenne, Sujet: Demande d’accès à Notion pour la gestion de projets, Service: IT, Action requise: True\n"
     ]
    }
   ],
   "source": [
    "inputs = [\n",
    "\"\"\"\n",
    "Objet : Urgence - Impossible de se connecter à l'intranet\n",
    "\n",
    "Bonjour,\n",
    "\n",
    "Depuis ce matin, aucun collaborateur ne parvient à accéder à l’intranet de l’entreprise. Un message d’erreur « 502 Bad Gateway » s’affiche systématiquement.\n",
    "\n",
    "Merci de résoudre cela au plus vite, c’est bloquant pour toute l’équipe RH.\n",
    "\n",
    "Cordialement,  \n",
    "Caroline Dumas\n",
    "\"\"\",\n",
    "\"\"\"\n",
    "Sujet : Demande d’accès à un nouveau logiciel\n",
    "\n",
    "Bonjour,  \n",
    "Je souhaiterais pouvoir utiliser l’outil Notion pour la gestion de mes projets.  \n",
    "Pouvez-vous procéder à l’installation ou me dire quelle est la démarche à suivre ?  \n",
    "\n",
    "Merci d’avance,  \n",
    "Mohamed\n",
    "\"\"\"]\n",
    "\n",
    "from pydantic import BaseModel, Field\n",
    "from typing import Literal\n",
    "\n",
    "\n",
    "class SupportTicket(BaseModel):\n",
    "    type: Literal[\"incident\", \"demande\", \"question\", \"autre\"] = Field(..., description=\"Type de ticket\")\n",
    "    priorité: Literal[\"basse\", \"moyenne\", \"haute\", \"critique\"] = Field(..., description=\"Niveau de priorité\")\n",
    "    sujet: str = Field(..., description=\"Résumé court du problème ou de la demande\")\n",
    "    service_concerné: Literal[\"IT\", \"RH\", \"Finances\", \"Achats\", \"Inconnu\"] = Field(..., description=\"Domaine concerné\")\n",
    "    requiert_action_humaine: bool = Field(..., description=\"Nécessite une action manuelle immédiate\")\n",
    "\n",
    "llm = init_chat_model(\"gpt-4o-mini\", model_provider=\"openai\").with_structured_output(SupportTicket)\n",
    "\n",
    "for input_text in inputs:\n",
    "    response = llm.invoke(input_text)\n",
    "    ticket = SupportTicket.model_validate(response)\n",
    "    print(f\"Type: {ticket.type}, Priorité: {ticket.priorité}, Sujet: {ticket.sujet}, Service: {ticket.service_concerné}, Action requise: {ticket.requiert_action_humaine}\")"
   ]
  },
  {
   "cell_type": "markdown",
   "metadata": {},
   "source": [
    "## Validation et normalisation de données naturelles\n",
    "\n"
   ]
  },
  {
   "cell_type": "code",
   "execution_count": 5,
   "metadata": {},
   "outputs": [
    {
     "name": "stdout",
     "output_type": "stream",
     "text": [
      "Date: 2023-10-06, Heure de début: 08:30, Durée: 2 heures\n",
      "Date: 2023-10-06, Heure de début: 12:00, Durée: 1 heures\n"
     ]
    }
   ],
   "source": [
    "inputs = [\n",
    "    \"Je veux réserver une salle de réunion pour demain à 8h30 pour 2h.\",\n",
    "    \"demin midi por max 1 heure\",\n",
    "]\n",
    "\n",
    "from pydantic import BaseModel, Field\n",
    "\n",
    "class MeetingRoomBooking(BaseModel):\n",
    "    date: str = Field(..., description=\"Date de la réservation au format YYYY-MM-DD\")\n",
    "    start_time: str = Field(..., description=\"Heure de début au format HH:MM\")\n",
    "    duration_hours: int = Field(..., ge=1, le=8, description=\"Durée de la réservation en heures\")\n",
    "\n",
    "llm = init_chat_model(\"gpt-4o-mini\", model_provider=\"openai\").with_structured_output(MeetingRoomBooking)\n",
    "\n",
    "for input_text in inputs:\n",
    "    response = llm.invoke(input_text)\n",
    "    ticket = MeetingRoomBooking.model_validate(response)\n",
    "    print(f\"Date: {ticket.date}, Heure de début: {ticket.start_time}, Durée: {ticket.duration_hours} heures\")"
   ]
  }
 ],
 "metadata": {
  "kernelspec": {
   "display_name": ".venv",
   "language": "python",
   "name": "python3"
  },
  "language_info": {
   "codemirror_mode": {
    "name": "ipython",
    "version": 3
   },
   "file_extension": ".py",
   "mimetype": "text/x-python",
   "name": "python",
   "nbconvert_exporter": "python",
   "pygments_lexer": "ipython3",
   "version": "3.12.3"
  }
 },
 "nbformat": 4,
 "nbformat_minor": 2
}
