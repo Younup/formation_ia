{
 "cells": [
  {
   "cell_type": "markdown",
   "metadata": {},
   "source": [
    "# Introduction à Langchain \n",
    "\n"
   ]
  },
  {
   "cell_type": "markdown",
   "metadata": {},
   "source": [
    "### Dépendances et clé d'API"
   ]
  },
  {
   "cell_type": "code",
   "execution_count": 3,
   "metadata": {},
   "outputs": [],
   "source": [
    "#Décommenter sur Google Colab\n",
    "#%pip install langchain langchain-openai langchain_mistralai openai python-dotenv -q\n",
    "#from google.colab import userdata\n",
    "#api_key=userdata.get('OPENAI_API_KEY')\n",
    "\n",
    "\n",
    "#Décommenter en local\n",
    "from dotenv import load_dotenv\n",
    "from os import getenv\n",
    "load_dotenv()\n",
    "api_key= getenv(\"OPENAI_API_KEY\")\n",
    "\n"
   ]
  },
  {
   "cell_type": "markdown",
   "metadata": {},
   "source": [
    "## Vanilla via api OpenAI\n",
    "\n",
    "Sortez les rames :)"
   ]
  },
  {
   "cell_type": "code",
   "execution_count": 13,
   "metadata": {},
   "outputs": [
    {
     "name": "stdout",
     "output_type": "stream",
     "text": [
      "Today in Paris, the weather is clear with a temperature of 20°C. It sounds like a lovely day to explore the city!\n"
     ]
    }
   ],
   "source": [
    "from openai import OpenAI\n",
    "from openai.types.responses import ResponseFunctionToolCall\n",
    "\n",
    "\n",
    "client = OpenAI()\n",
    "\n",
    "\n",
    "def initial_llm_request(user_message: str):\n",
    "    \"\"\"\n",
    "    Make the initial request to the LLM with the user's message.\n",
    "    \"\"\"\n",
    "    tools = [{\n",
    "    \"type\": \"function\",\n",
    "    \"name\": \"get_weather\",\n",
    "    \"description\": \"Get current temperature for a given location.\",\n",
    "    \"parameters\": {\n",
    "        \"type\": \"object\",\n",
    "        \"properties\": {\n",
    "            \"location\": {\n",
    "                \"type\": \"string\",\n",
    "                \"description\": \"City and country e.g. Bogotá, Colombia\"\n",
    "            }\n",
    "        },\n",
    "        \"required\": [\n",
    "            \"location\"\n",
    "        ],\n",
    "        \"additionalProperties\": False\n",
    "    }\n",
    "}]\n",
    "    return client.responses.create(\n",
    "        model=\"gpt-4o-mini\",\n",
    "        input=[{\"role\": \"user\", \"content\": user_message}],\n",
    "        tools=tools\n",
    "    )\n",
    "\n",
    "def get_weather(location: str) -> str:\n",
    "    \"\"\"\n",
    "    Simulate a weather API call.\n",
    "    In a real-world scenario, you would replace this with an actual API call to a weather service.\n",
    "    \"\"\"\n",
    "    # Simulated response\n",
    "    return f\"The current temperature in {location} is 20°C with clear skies.\"\n",
    "\n",
    "\n",
    "\n",
    "def handle_tool_call(response):\n",
    "    \"\"\"\n",
    "    Handle the tool call response from the LLM.\n",
    "    If the response contains a tool call, execute it and return the result.\n",
    "    \"\"\"\n",
    "    if isinstance(response.output[0], ResponseFunctionToolCall):\n",
    "        tool_call = response.output[0]\n",
    "        if tool_call.name == \"get_weather\":\n",
    "            import json\n",
    "            tool_args = json.loads(tool_call.arguments)\n",
    "            location = tool_args.get(\"location\", \"\")\n",
    "            weather = get_weather(location)\n",
    "            return weather\n",
    "    return None\n",
    "\n",
    "\n",
    "def final_llm_call(user_message: str, weather_info: str):\n",
    "    \"\"\"\n",
    "    Make a final call to the LLM with the weather information.\n",
    "    \"\"\"\n",
    "    response = client.responses.create(\n",
    "        model=\"gpt-4o-mini\",\n",
    "        input=[{\"role\": \"user\", \"content\": user_message}, {\"role\": \"developer\", \"content\": weather_info}],\n",
    "    )\n",
    "\n",
    "    return response.output_text\n",
    "\n",
    "\n",
    "\n",
    "user_message = \"What is the weather like in Paris today?\"\n",
    "initial_response = initial_llm_request(user_message)\n",
    "weather_info = handle_tool_call(initial_response)\n",
    "if weather_info:\n",
    "    final_response = final_llm_call(user_message, weather_info)\n",
    "    print(final_response)\n",
    "else:\n",
    "    print(\"No tool call was made by the LLM.\")\n"
   ]
  },
  {
   "cell_type": "markdown",
   "metadata": {},
   "source": [
    "## Langchain Tool "
   ]
  },
  {
   "cell_type": "code",
   "execution_count": null,
   "metadata": {},
   "outputs": [
    {
     "name": "stdout",
     "output_type": "stream",
     "text": [
      "ERROR: unknown command \"inqtall\" - maybe you meant \"install\"\n",
      "Note: you may need to restart the kernel to use updated packages.\n"
     ]
    }
   ],
   "source": [
    "%pip install langchain-tavily"
   ]
  },
  {
   "cell_type": "code",
   "execution_count": 5,
   "metadata": {},
   "outputs": [],
   "source": [
    "from langchain_tavily import TavilySearch\n",
    "\n",
    "tool = TavilySearch(\n",
    "    max_results=5,\n",
    "    topic=\"general\",\n",
    "    api_key=\"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\",\n",
    "    # include_answer=False,\n",
    "    # include_raw_content=False,\n",
    "    # include_images=False,\n",
    "    # include_image_descriptions=False,\n",
    "    # search_depth=\"basic\",\n",
    "    # time_range=\"day\",\n",
    "    # include_domains=None,\n",
    "    # exclude_domains=None\n",
    ")"
   ]
  },
  {
   "cell_type": "code",
   "execution_count": 6,
   "metadata": {},
   "outputs": [
    {
     "data": {
      "text/plain": [
       "{'query': 'What happened at the last Roland Garros?',\n",
       " 'follow_up_questions': None,\n",
       " 'answer': None,\n",
       " 'images': [],\n",
       " 'results': [{'title': 'At final Roland Garros, Danielle Collins suffers shock exit to Olga ...',\n",
       "   'url': 'https://www.tennis.com/news/articles/danielle-collins-exit-final-roland-garros-olga-danilovic-retirement-novak-djokovic',\n",
       "   'content': 'Danielle Collins bowed out of her final Roland Garros in the second round, losing to Olga Danilovic, 6-7 (3), 7-5, 6-4. Collins, who plans to retire at the end of the 2024 season, arrived in Paris',\n",
       "   'score': 0.5163278,\n",
       "   'raw_content': None},\n",
       "  {'title': \"Novak Djokovic: Roland Garros loss 'could have been the last match I ...\",\n",
       "   'url': 'https://www.atptour.com/en/news/djokovic-roland-garros-2025-sf-reaction',\n",
       "   'content': 'The 38-year-old spoke candidly in his post-match press conference, reflecting on the uncertainty of the future following his semi-final loss to top seed Jannik Sinner at Roland Garros. \"This could have been the last match ever I played here, so I don\\'t know. That\\'s why I was a bit more emotional even in the end,\" said Djokovic, a three-time',\n",
       "   'score': 0.45391592,\n",
       "   'raw_content': None},\n",
       "  {'title': 'Jannik Sinner gives verdict on the atmosphere in Roland Garros final as ...',\n",
       "   'url': 'https://www.thetennisgazette.com/news/jannik-sinner-gives-verdict-on-the-atmosphere-in-roland-garros-final-as-he-explains-change-which-has-happened-in-tennis/',\n",
       "   'content': 'Sinner battled to a two-set lead against Alcaraz, but ended up losing their latest clash 4-6, 6-7(4-7), 6-4, 7-6(7-3), 7-6(10-2).. Rafael Nadal has congratulated Alcaraz on his win at the French Open, where he has successfully defended his title.. The ATP number two beat Alexander Zverev in the 2024 Roland Garros final, and now has five career Grand Slam titles to his name.',\n",
       "   'score': 0.2866038,\n",
       "   'raw_content': None},\n",
       "  {'title': 'Latest news - Roland-Garros 2025 - The official site',\n",
       "   'url': 'https://www.rolandgarros.com/en-us/latest-news',\n",
       "   'content': 'The exclusive home of Roland-Garros tennis delivering live scores, schedules, draws, players, news, photos, videos and the most complete coverage of The 2025 Roland-Garros Tournament. ×. ×. ROLAND-GARROS 18 May - 7 June 2026 News',\n",
       "   'score': 0.2665701,\n",
       "   'raw_content': None},\n",
       "  {'title': 'Carlos Alcaraz wins Roland Garros, completing historic comeback from ...',\n",
       "   'url': 'https://www.cnn.com/2025/06/08/sport/carlos-alcaraz-jannik-sinner-french-open-final-spt',\n",
       "   'content': \"Carlos Alcaraz mounted an extraordinary comeback to win the men's final at Roland Garros on Sunday, defeating world No. 1 Jannik Sinner 4-6, 6-7 (4), 6-4, 7-6 (3), 7-6 (2). In the longest final\",\n",
       "   'score': 0.21618558,\n",
       "   'raw_content': None}],\n",
       " 'response_time': 0.87}"
      ]
     },
     "execution_count": 6,
     "metadata": {},
     "output_type": "execute_result"
    }
   ],
   "source": [
    "tool.invoke({\"query\": \"What happened at the last Roland Garros?\"})"
   ]
  },
  {
   "cell_type": "markdown",
   "metadata": {},
   "source": [
    "## Tool et Agent\n",
    "\n",
    "### Web search"
   ]
  },
  {
   "cell_type": "code",
   "execution_count": 7,
   "metadata": {},
   "outputs": [
    {
     "name": "stdout",
     "output_type": "stream",
     "text": [
      "================================\u001b[1m Human Message \u001b[0m=================================\n",
      "\n",
      "Who won Roland Garros 2025? Include only wikipedia sources.\n",
      "==================================\u001b[1m Ai Message \u001b[0m==================================\n",
      "Tool Calls:\n",
      "  tavily_search (call_H9xhV9TS1kJmDyx0cLCbuDW8)\n",
      " Call ID: call_H9xhV9TS1kJmDyx0cLCbuDW8\n",
      "  Args:\n",
      "    query: Roland Garros 2025 winner site:wikipedia.org\n",
      "    include_domains: ['wikipedia.org']\n",
      "=================================\u001b[1m Tool Message \u001b[0m=================================\n",
      "Name: tavily_search\n",
      "\n",
      "{\"query\": \"Roland Garros 2025 winner site:wikipedia.org\", \"follow_up_questions\": null, \"answer\": null, \"images\": [], \"results\": [{\"title\": \"French Open 2025 - Wikipedia, wolna encyklopedia\", \"url\": \"https://pl.wikipedia.org/wiki/French_Open_2025\", \"content\": \"French Open 2025 - tenisowy turniej wielkoszlemowy, który odbył się w dniach 25 maja-8 czerwca, na ceglanych kortach Stade Roland Garros w Paryżu.Była to 124. edycja tych rozgrywek.Pula nagród wyniosła 56,4 mln euro. Tytuł w grze pojedynczej mężczyzn obronił Carlos Alcaraz.W grze pojedynczej kobiet wygrała Coco Gauff, a obrończyni tytułu, Iga Świątek, odpadła w półfinale.\", \"score\": 0.78214747, \"raw_content\": null}, {\"title\": \"Roland Garros 2025 (vrouwen) - Wikipedia\", \"url\": \"https://nl.wikipedia.org/wiki/Roland_Garros_2025_(vrouwen)\", \"content\": \"Op Roland Garros 2025 speelden de vrouwen de wedstrijden in het enkelspel van zondag 25 mei tot en met zaterdag 7 juni. Winnares Cori Gauff. Toernooisamenvatting Drievoudig titelverdedigster Iga Świątek uit Polen was het vijfde reekshoofd. Zij verloor in de halve finale van de\", \"score\": 0.75181264, \"raw_content\": null}, {\"title\": \"Internationaux de France de tennis 2025 — Wikipédia\", \"url\": \"https://fr.wikipedia.org/wiki/Internationaux_de_France_de_tennis_2025\", \"content\": \"Les Internationaux de France de tennis 2025 se déroulent du 25 mai au 8 juin 2025 [2], [3] au stade Roland-Garros dans le 16 e arrondissement de Paris.Il s'agit de la 124 e édition du tournoi de tennis professionnel des Internationaux de France de tennis.. Les deux finales, dames et hommes sont exceptionnellement longues et disputées : Coco Gauff remporte son premier Roland Garros en\", \"score\": 0.74229145, \"raw_content\": null}, {\"title\": \"2025 French Open - Wikipedia\", \"url\": \"https://en.wikipedia.org/wiki/2025_French_Open\", \"content\": \"| Image 26: GermanyEva Bennemann / Image 27: GermanySonja Zhenikhova **Wheelchair boys' singles\\\")** Image 28: AustriaMaximilian Taucher\\\") **Wheelchair girls' singles\\\")** Image 29: BrazilVitória Miranda **Wheelchair boys' doubles\\\")** Image 30: United StatesCharlie Cooper&action=edit&redlink=1 \\\"Charlie Cooper (tennis) (page does not exist)\\\") / Image 31: AustriaMaximilian Taucher\\\") **Wheelchair girls' doubles\\\")** Image 32: BelgiumLuna Gryp\\\") / Image 33: BrazilVitória Miranda | The **2025 French Open** was a major \\\"Grand Slam (tennis)\\\") tennis tournament that was played on outdoor clay courts and held at the Stade Roland Garros in Paris, France, from 25 May to 8 June 2025, comprising singles, doubles, mixed doubles play, junior and wheelchair tournaments. Main article: 2025 French Open – Wheelchair men's singles Main article: 2025 French Open – Wheelchair women's singles\", \"score\": 0.64344186, \"raw_content\": null}, {\"title\": \"Roland Garros 2025 - Wikipedia\", \"url\": \"https://nl.wikipedia.org/wiki/Roland_Garros_2025\", \"content\": \"De 124e editie van het Franse grandslamtoernooi Roland Garros 2025 werd gehouden van zondag 25 mei tot en met zondag 8 juni 2025. Voor de vrouwen was het de 118e editie. Het toernooi werd gespeeld in het Roland-Garrosstadion in het 16e arrondissement van Parijs.. Op grond van een beslissing van de gezamenlijke internationale tennisbonden [3] speelden deelnemers uit Rusland en Wit-Rusland\", \"score\": 0.63777614, \"raw_content\": null}], \"response_time\": 2.91}\n",
      "==================================\u001b[1m Ai Message \u001b[0m==================================\n",
      "\n",
      "In the 2025 Roland Garros (French Open), Carlos Alcaraz won the men's singles, and Coco Gauff won the women's singles. You can find more details on Wikipedia: \n",
      "\n",
      "- [French Open 2025](https://en.wikipedia.org/wiki/2025_French_Open)\n"
     ]
    }
   ],
   "source": [
    "from langchain_tavily import TavilySearch\n",
    "from langgraph.prebuilt import create_react_agent\n",
    "from langchain.chat_models import init_chat_model\n",
    "\n",
    "llm = init_chat_model(\"gpt-4o-mini\", model_provider=\"openai\")\n",
    "\n",
    "# Initialize Tavily Search Tool\n",
    "tavily_search_tool = TavilySearch(\n",
    "    max_results=5,\n",
    "    topic=\"general\",\n",
    ")\n",
    "\n",
    "agent = create_react_agent(llm, [tavily_search_tool])\n",
    "\n",
    "user_input = \"Who won Roland Garros 2025? Include only wikipedia sources.\"\n",
    "\n",
    "for step in agent.stream(\n",
    "    {\"messages\": user_input},\n",
    "    stream_mode=\"values\",\n",
    "):\n",
    "    step[\"messages\"][-1].pretty_print()"
   ]
  },
  {
   "cell_type": "markdown",
   "metadata": {},
   "source": [
    "### SQL"
   ]
  },
  {
   "cell_type": "code",
   "execution_count": 10,
   "metadata": {},
   "outputs": [
    {
     "name": "stdout",
     "output_type": "stream",
     "text": [
      "Requirement already satisfied: sqlalchemy in ./.venv/lib/python3.12/site-packages (2.0.41)\n",
      "Requirement already satisfied: requests in ./.venv/lib/python3.12/site-packages (2.32.4)\n",
      "Requirement already satisfied: greenlet>=1 in ./.venv/lib/python3.12/site-packages (from sqlalchemy) (3.2.3)\n",
      "Requirement already satisfied: typing-extensions>=4.6.0 in ./.venv/lib/python3.12/site-packages (from sqlalchemy) (4.14.0)\n",
      "Requirement already satisfied: charset_normalizer<4,>=2 in ./.venv/lib/python3.12/site-packages (from requests) (3.4.2)\n",
      "Requirement already satisfied: idna<4,>=2.5 in ./.venv/lib/python3.12/site-packages (from requests) (3.10)\n",
      "Requirement already satisfied: urllib3<3,>=1.21.1 in ./.venv/lib/python3.12/site-packages (from requests) (2.4.0)\n",
      "Requirement already satisfied: certifi>=2017.4.17 in ./.venv/lib/python3.12/site-packages (from requests) (2025.4.26)\n",
      "Note: you may need to restart the kernel to use updated packages.\n"
     ]
    }
   ],
   "source": [
    "%pip install sqlalchemy requests"
   ]
  },
  {
   "cell_type": "markdown",
   "metadata": {},
   "source": [
    "Init db connection"
   ]
  },
  {
   "cell_type": "code",
   "execution_count": 11,
   "metadata": {},
   "outputs": [],
   "source": [
    "import sqlite3\n",
    "\n",
    "import requests\n",
    "from langchain_community.utilities.sql_database import SQLDatabase\n",
    "from sqlalchemy import create_engine\n",
    "from sqlalchemy.pool import StaticPool\n",
    "\n",
    "\n",
    "def get_engine_for_chinook_db():\n",
    "    \"\"\"Pull sql file, populate in-memory database, and create engine.\"\"\"\n",
    "    url = \"https://raw.githubusercontent.com/lerocha/chinook-database/master/ChinookDatabase/DataSources/Chinook_Sqlite.sql\"\n",
    "    response = requests.get(url)\n",
    "    sql_script = response.text\n",
    "\n",
    "    connection = sqlite3.connect(\":memory:\", check_same_thread=False)\n",
    "    connection.executescript(sql_script)\n",
    "    return create_engine(\n",
    "        \"sqlite://\",\n",
    "        creator=lambda: connection,\n",
    "        poolclass=StaticPool,\n",
    "        connect_args={\"check_same_thread\": False},\n",
    "    )\n",
    "\n",
    "\n",
    "engine = get_engine_for_chinook_db()\n",
    "\n",
    "db = SQLDatabase(engine)"
   ]
  },
  {
   "cell_type": "markdown",
   "metadata": {},
   "source": [
    "Init LLM model"
   ]
  },
  {
   "cell_type": "code",
   "execution_count": null,
   "metadata": {},
   "outputs": [],
   "source": [
    "from langchain.chat_models import init_chat_model\n",
    "\n",
    "llm = init_chat_model(\"gpt-4o-mini\", model_provider=\"openai\")"
   ]
  },
  {
   "cell_type": "markdown",
   "metadata": {},
   "source": [
    "Init  SQL toolkit"
   ]
  },
  {
   "cell_type": "code",
   "execution_count": 12,
   "metadata": {},
   "outputs": [
    {
     "data": {
      "text/plain": [
       "[QuerySQLDatabaseTool(description=\"Input to this tool is a detailed and correct SQL query, output is a result from the database. If the query is not correct, an error message will be returned. If an error is returned, rewrite the query, check the query, and try again. If you encounter an issue with Unknown column 'xxxx' in 'field list', use sql_db_schema to query the correct table fields.\", db=<langchain_community.utilities.sql_database.SQLDatabase object at 0x7fbadbbe3d40>),\n",
       " InfoSQLDatabaseTool(description='Input to this tool is a comma-separated list of tables, output is the schema and sample rows for those tables. Be sure that the tables actually exist by calling sql_db_list_tables first! Example Input: table1, table2, table3', db=<langchain_community.utilities.sql_database.SQLDatabase object at 0x7fbadbbe3d40>),\n",
       " ListSQLDatabaseTool(db=<langchain_community.utilities.sql_database.SQLDatabase object at 0x7fbadbbe3d40>),\n",
       " QuerySQLCheckerTool(description='Use this tool to double check if your query is correct before executing it. Always use this tool before executing a query with sql_db_query!', db=<langchain_community.utilities.sql_database.SQLDatabase object at 0x7fbadbbe3d40>, llm=ChatOpenAI(client=<openai.resources.chat.completions.completions.Completions object at 0x7fbae819fc80>, async_client=<openai.resources.chat.completions.completions.AsyncCompletions object at 0x7fbadbb80830>, root_client=<openai.OpenAI object at 0x7fbae920ab40>, root_async_client=<openai.AsyncOpenAI object at 0x7fbae81cf3b0>, model_name='gpt-4o-mini', model_kwargs={}, openai_api_key=SecretStr('**********')), llm_chain=LLMChain(verbose=False, prompt=PromptTemplate(input_variables=['dialect', 'query'], input_types={}, partial_variables={}, template='\\n{query}\\nDouble check the {dialect} query above for common mistakes, including:\\n- Using NOT IN with NULL values\\n- Using UNION when UNION ALL should have been used\\n- Using BETWEEN for exclusive ranges\\n- Data type mismatch in predicates\\n- Properly quoting identifiers\\n- Using the correct number of arguments for functions\\n- Casting to the correct data type\\n- Using the proper columns for joins\\n\\nIf there are any of the above mistakes, rewrite the query. If there are no mistakes, just reproduce the original query.\\n\\nOutput the final SQL query only.\\n\\nSQL Query: '), llm=ChatOpenAI(client=<openai.resources.chat.completions.completions.Completions object at 0x7fbae819fc80>, async_client=<openai.resources.chat.completions.completions.AsyncCompletions object at 0x7fbadbb80830>, root_client=<openai.OpenAI object at 0x7fbae920ab40>, root_async_client=<openai.AsyncOpenAI object at 0x7fbae81cf3b0>, model_name='gpt-4o-mini', model_kwargs={}, openai_api_key=SecretStr('**********')), output_parser=StrOutputParser(), llm_kwargs={}))]"
      ]
     },
     "execution_count": 12,
     "metadata": {},
     "output_type": "execute_result"
    }
   ],
   "source": [
    "from langchain_community.agent_toolkits.sql.toolkit import SQLDatabaseToolkit\n",
    "\n",
    "toolkit = SQLDatabaseToolkit(db=db, llm=llm)\n",
    "toolkit.get_tools()"
   ]
  },
  {
   "cell_type": "code",
   "execution_count": 13,
   "metadata": {},
   "outputs": [],
   "source": [
    "from langgraph.prebuilt import create_react_agent\n",
    "\n",
    "system_message = \"\"\"\n",
    "You are an agent designed to interact with a SQL database.\n",
    "Given an input question, create a syntactically correct SQLite query to run, then look at the results of the query and return the answer.\n",
    "Unless the user specifies a specific number of examples they wish to obtain, always limit your query to at most 5 results.\n",
    "You can order the results by a relevant column to return the most interesting examples in the database.\n",
    "Never query for all the columns from a specific table, only ask for the relevant columns given the question.\n",
    "You have access to tools for interacting with the database.\n",
    "Only use the below tools. Only use the information returned by the below tools to construct your final answer.\n",
    "You MUST double check your query before executing it. If you get an error while executing a query, rewrite the query and try again.\n",
    "DO NOT make any DML statements (INSERT, UPDATE, DELETE, DROP etc.) to the database.\n",
    "To start you should ALWAYS look at the tables in the database to see what you can query.\n",
    "Do NOT skip this step.\n",
    "Then you should query the schema of the most relevant tables.\n",
    "\"\"\"\n",
    "agent_executor = create_react_agent(llm, toolkit.get_tools(), prompt=system_message)"
   ]
  },
  {
   "cell_type": "code",
   "execution_count": 14,
   "metadata": {},
   "outputs": [
    {
     "name": "stdout",
     "output_type": "stream",
     "text": [
      "================================\u001b[1m Human Message \u001b[0m=================================\n",
      "\n",
      "Which country's customers spent the most?\n",
      "==================================\u001b[1m Ai Message \u001b[0m==================================\n",
      "Tool Calls:\n",
      "  sql_db_list_tables (call_TfVt2RYOkkKPfebrESvc20CM)\n",
      " Call ID: call_TfVt2RYOkkKPfebrESvc20CM\n",
      "  Args:\n",
      "=================================\u001b[1m Tool Message \u001b[0m=================================\n",
      "Name: sql_db_list_tables\n",
      "\n",
      "Album, Artist, Customer, Employee, Genre, Invoice, InvoiceLine, MediaType, Playlist, PlaylistTrack, Track\n",
      "==================================\u001b[1m Ai Message \u001b[0m==================================\n",
      "Tool Calls:\n",
      "  sql_db_schema (call_vYXcz5uOstCake9jyqp0VARq)\n",
      " Call ID: call_vYXcz5uOstCake9jyqp0VARq\n",
      "  Args:\n",
      "    table_names: Customer\n",
      "  sql_db_schema (call_7lr4Jt15r1FVjVSZLZvBirPL)\n",
      " Call ID: call_7lr4Jt15r1FVjVSZLZvBirPL\n",
      "  Args:\n",
      "    table_names: Invoice\n",
      "  sql_db_schema (call_knzM4JyuB8Ce0J7TA3w5dLoQ)\n",
      " Call ID: call_knzM4JyuB8Ce0J7TA3w5dLoQ\n",
      "  Args:\n",
      "    table_names: InvoiceLine\n",
      "=================================\u001b[1m Tool Message \u001b[0m=================================\n",
      "Name: sql_db_schema\n",
      "\n",
      "\n",
      "CREATE TABLE \"InvoiceLine\" (\n",
      "\t\"InvoiceLineId\" INTEGER NOT NULL, \n",
      "\t\"InvoiceId\" INTEGER NOT NULL, \n",
      "\t\"TrackId\" INTEGER NOT NULL, \n",
      "\t\"UnitPrice\" NUMERIC(10, 2) NOT NULL, \n",
      "\t\"Quantity\" INTEGER NOT NULL, \n",
      "\tPRIMARY KEY (\"InvoiceLineId\"), \n",
      "\tFOREIGN KEY(\"TrackId\") REFERENCES \"Track\" (\"TrackId\"), \n",
      "\tFOREIGN KEY(\"InvoiceId\") REFERENCES \"Invoice\" (\"InvoiceId\")\n",
      ")\n",
      "\n",
      "/*\n",
      "3 rows from InvoiceLine table:\n",
      "InvoiceLineId\tInvoiceId\tTrackId\tUnitPrice\tQuantity\n",
      "1\t1\t2\t0.99\t1\n",
      "2\t1\t4\t0.99\t1\n",
      "3\t2\t6\t0.99\t1\n",
      "*/\n",
      "==================================\u001b[1m Ai Message \u001b[0m==================================\n",
      "Tool Calls:\n",
      "  sql_db_query_checker (call_0PAIYN19aQP9ihgVuNBNjLhI)\n",
      " Call ID: call_0PAIYN19aQP9ihgVuNBNjLhI\n",
      "  Args:\n",
      "    query: SELECT c.Country, SUM(i.Total) AS TotalSpent \n",
      "FROM Customer c \n",
      "JOIN Invoice i ON c.CustomerId = i.CustomerId \n",
      "GROUP BY c.Country \n",
      "ORDER BY TotalSpent DESC \n",
      "LIMIT 5;\n",
      "=================================\u001b[1m Tool Message \u001b[0m=================================\n",
      "Name: sql_db_query_checker\n",
      "\n",
      "```sql\n",
      "SELECT c.Country, SUM(i.Total) AS TotalSpent \n",
      "FROM Customer c \n",
      "JOIN Invoice i ON c.CustomerId = i.CustomerId \n",
      "GROUP BY c.Country \n",
      "ORDER BY TotalSpent DESC \n",
      "LIMIT 5;\n",
      "```\n",
      "==================================\u001b[1m Ai Message \u001b[0m==================================\n",
      "Tool Calls:\n",
      "  sql_db_query (call_fWqIgAO903qWofH6LAS6Gfgf)\n",
      " Call ID: call_fWqIgAO903qWofH6LAS6Gfgf\n",
      "  Args:\n",
      "    query: SELECT c.Country, SUM(i.Total) AS TotalSpent \n",
      "FROM Customer c \n",
      "JOIN Invoice i ON c.CustomerId = i.CustomerId \n",
      "GROUP BY c.Country \n",
      "ORDER BY TotalSpent DESC \n",
      "LIMIT 5;\n",
      "=================================\u001b[1m Tool Message \u001b[0m=================================\n",
      "Name: sql_db_query\n",
      "\n",
      "[('USA', 523.06), ('Canada', 303.96), ('France', 195.1), ('Brazil', 190.1), ('Germany', 156.48)]\n",
      "==================================\u001b[1m Ai Message \u001b[0m==================================\n",
      "\n",
      "The country whose customers spent the most is the **USA**, with a total expenditure of **$523.06**. Here are the top five countries by total spending:\n",
      "\n",
      "1. USA: $523.06\n",
      "2. Canada: $303.96\n",
      "3. France: $195.10\n",
      "4. Brazil: $190.10\n",
      "5. Germany: $156.48\n"
     ]
    }
   ],
   "source": [
    "example_query = \"Which country's customers spent the most?\"\n",
    "\n",
    "events = agent_executor.stream(\n",
    "    {\"messages\": [(\"user\", example_query)]},\n",
    "    stream_mode=\"values\",\n",
    ")\n",
    "for event in events:\n",
    "    event[\"messages\"][-1].pretty_print()"
   ]
  }
 ],
 "metadata": {
  "kernelspec": {
   "display_name": ".venv",
   "language": "python",
   "name": "python3"
  },
  "language_info": {
   "codemirror_mode": {
    "name": "ipython",
    "version": 3
   },
   "file_extension": ".py",
   "mimetype": "text/x-python",
   "name": "python",
   "nbconvert_exporter": "python",
   "pygments_lexer": "ipython3",
   "version": "3.12.3"
  }
 },
 "nbformat": 4,
 "nbformat_minor": 2
}
