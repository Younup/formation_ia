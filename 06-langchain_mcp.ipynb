{
 "cells": [
  {
   "cell_type": "markdown",
   "metadata": {},
   "source": [
    "# Introduction à Langchain \n",
    "\n"
   ]
  },
  {
   "cell_type": "markdown",
   "metadata": {},
   "source": [
    "### Dépendances et clé d'API"
   ]
  },
  {
   "cell_type": "code",
   "execution_count": 1,
   "metadata": {},
   "outputs": [],
   "source": [
    "#Décommenter sur Google Colab\n",
    "#%pip install langchain langchain-openai langchain_mistralai openai python-dotenv -q\n",
    "#from google.colab import userdata\n",
    "#api_key=userdata.get('OPENAI_API_KEY')\n",
    "\n",
    "\n",
    "#Décommenter en local\n",
    "from dotenv import load_dotenv\n",
    "from os import getenv\n",
    "load_dotenv()\n",
    "api_key= getenv(\"OPENAI_API_KEY\")\n",
    "\n",
    "# Pièce n°1: le LLM\n",
    "from langchain_openai import ChatOpenAI\n",
    "llm_openai = ChatOpenAI(model=\"gpt-4o-mini\", api_key=api_key)\n",
    "\n",
    "# Pièce n°2: le prompt\n",
    "from langchain.prompts import ChatPromptTemplate\n",
    "prompt = ChatPromptTemplate.from_messages([\n",
    "    (\"system\", \"Répond en français.\"), #Ici des instructions pour le modèle, 'à l'insu' de l'utilisateur\n",
    "    (\"human\", \"{question}\"), # Ici la question de l'utilisateur, variable {question} à remplacer sera remplacée par la question de l'utilisateur\n",
    "])"
   ]
  }
 ],
 "metadata": {
  "kernelspec": {
   "display_name": ".venv",
   "language": "python",
   "name": "python3"
  },
  "language_info": {
   "codemirror_mode": {
    "name": "ipython",
    "version": 3
   },
   "file_extension": ".py",
   "mimetype": "text/x-python",
   "name": "python",
   "nbconvert_exporter": "python",
   "pygments_lexer": "ipython3",
   "version": "3.12.3"
  }
 },
 "nbformat": 4,
 "nbformat_minor": 2
}
