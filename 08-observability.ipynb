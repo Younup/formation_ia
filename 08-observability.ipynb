{
 "cells": [
  {
   "cell_type": "markdown",
   "metadata": {},
   "source": [
    "# Observabilité, Evaluation | Langfuse\n",
    "\n"
   ]
  },
  {
   "cell_type": "markdown",
   "metadata": {},
   "source": [
    "### Reprenons un simple chat bot"
   ]
  },
  {
   "cell_type": "code",
   "execution_count": null,
   "metadata": {},
   "outputs": [],
   "source": [
    "#Décommenter sur Google Colab\n",
    "#%pip install langchain langchain-openai langchain_mistralai openai python-dotenv -q\n",
    "#from google.colab import userdata\n",
    "#api_key=userdata.get('OPENAI_API_KEY')\n",
    "\n",
    "\n",
    "#Décommenter en local\n",
    "from dotenv import load_dotenv\n",
    "from os import getenv\n",
    "load_dotenv()\n",
    "api_key= getenv(\"OPENAI_API_KEY\")\n",
    "\n",
    "\n",
    "from langfuse import Langfuse\n",
    "from langfuse.langchain import CallbackHandler\n",
    "\n",
    "langfuse = Langfuse(\n",
    "  secret_key=getenv(\"LANGFUSE_SECRET_KEY\"),\n",
    "  public_key=getenv(\"LANGFUSE_PUBLIC_KEY\"),\n",
    "  host=\"https://cloud.langfuse.com\"\n",
    ")\n",
    "langfuse_handler = CallbackHandler()"
   ]
  },
  {
   "cell_type": "code",
   "execution_count": 8,
   "metadata": {},
   "outputs": [
    {
     "name": "stdout",
     "output_type": "stream",
     "text": [
      "Chatbot: En octobre 2023, le président de la France est Emmanuel Macron. Il est en fonction depuis mai 2017.\n",
      "Chatbot: En octobre 2023, le premier ministre du Québec est François Legault. Il est à la tête du gouvernement depuis octobre 2018.\n"
     ]
    }
   ],
   "source": [
    "from langchain.memory import ChatMessageHistory\n",
    "from langchain_core.prompts import MessagesPlaceholder\n",
    "from langchain_openai import ChatOpenAI\n",
    "from langchain_core.prompts import ChatPromptTemplate\n",
    "\n",
    "prompt = ChatPromptTemplate.from_messages([\n",
    "    (\"system\", \"Répond en français.\"), #Ici des instructions pour le modèle, 'à l'insu' de l'utilisateur\n",
    "    MessagesPlaceholder(variable_name=\"messages\"), # Ici on utilise un placeholder pour la mémoire, qui sera remplacé par l'historique des messages automatiquement par LangChain\n",
    "    (\"human\", \"{question}\"), # Ici la question de l'utilisateur, variable {question} à remplacer sera remplacée par la question de l'utilisateur\n",
    "])\n",
    "llm_openai = ChatOpenAI(\n",
    "    model=\"gpt-4o-mini\",\n",
    "    temperature=0.0\n",
    ")\n",
    "chatbot = prompt | llm_openai\n",
    "chat_history = ChatMessageHistory()\n",
    "config = {\n",
    "    \"callbacks\": [langfuse_handler],\n",
    "    \"metadata\": {\n",
    "        \"langfuse_session_id\": \"chatbot_session_1\",\n",
    "        \"langfuse_user_id\": \"user_12345\",  # Optionnel, pour identifier l'utilisateur\n",
    "        \"langfuse_tags\": [\"tag-1\", \"evaluate\"] #evaluate\n",
    "    }\n",
    "}\n",
    "\n",
    "question1 = \"Qui est le président de la France ?\"\n",
    "\n",
    "response = chatbot.invoke(\n",
    "    {\"question\": question1, \"messages\": chat_history.messages}, \n",
    "    config=config)\n",
    "print(f\"Chatbot: {response.content}\", flush=True)\n",
    "\n",
    "chat_history.add_user_message(question1)\n",
    "chat_history.add_ai_message(response.content)\n",
    "\n",
    "question2 = \"Et du Quebec ?\"\n",
    "\n",
    "response = chatbot.invoke({\"question\": question2, \"messages\": chat_history.messages},  config=config)\n",
    "print(f\"Chatbot: {response.content}\", flush=True)"
   ]
  },
  {
   "cell_type": "markdown",
   "metadata": {},
   "source": [
    "### Avec un workflow complexe"
   ]
  },
  {
   "cell_type": "code",
   "execution_count": 10,
   "metadata": {},
   "outputs": [
    {
     "name": "stderr",
     "output_type": "stream",
     "text": [
      "No 'langfuse_public_key' passed to decorated function, but multiple langfuse clients are instantiated in current process. Skipping tracing for this function to avoid cross-project leakage.\n"
     ]
    },
    {
     "data": {
      "text/plain": [
       "{'contraints': 'An inoffensive joke about animals, suitable for a young kid',\n",
       " 'topics': ['Elephant', 'Penguin', 'Monkey'],\n",
       " 'jokes': [\"Why don't elephants use computers?\\n\\nBecause they're afraid of the mouse!\",\n",
       "  \"Why don't penguins like talking to strangers at parties?  \\n\\nBecause they find it hard to break the ice! 🐧😄\",\n",
       "  'What do you call a monkey in a tree?  \\nA hot monkey!'],\n",
       " 'best_joke': \"Why don't penguins like talking to strangers at parties?  \\n\\nBecause they find it hard to break the ice! 🐧😄\"}"
      ]
     },
     "execution_count": 10,
     "metadata": {},
     "output_type": "execute_result"
    }
   ],
   "source": [
    "from langgraph.types import Send\n",
    "from typing import Annotated\n",
    "from typing_extensions import TypedDict\n",
    "from langgraph.graph import StateGraph, START\n",
    "from operator import add\n",
    "from langchain_openai import ChatOpenAI\n",
    "from langchain_core.prompts import PromptTemplate\n",
    "from pydantic import BaseModel\n",
    "from langchain_core.runnables import RunnableConfig\n",
    "from langfuse import Langfuse\n",
    "from langfuse.langchain import CallbackHandler\n",
    "\n",
    "langfuse = Langfuse(\n",
    "  secret_key=getenv(\"LANGFUSE_SECRET_KEY\"),\n",
    "  public_key=getenv(\"LANGFUSE_PUBLIC_KEY\"),\n",
    "  host=\"https://cloud.langfuse.com\"\n",
    ")\n",
    "langfuse_handler = CallbackHandler()\n",
    "\n",
    "def setup_config(tags: list[str] = []) -> RunnableConfig : \n",
    "    return  {\n",
    "    \"callbacks\": [langfuse_handler],\n",
    "    \"metadata\": {\n",
    "        \"langfuse_session_id\": \"langgraph_session\",  # ID de session unique pour Langfuse\n",
    "        \"langfuse_user_id\": \"user_6789\",  # Optionnel, pour identifier l'utilisateur\n",
    "        \"langfuse_tags\": tags #evaluate\n",
    "    }\n",
    "}\n",
    "\n",
    "\n",
    "\n",
    "class GeneratedTopics(BaseModel):\n",
    "    topics: list[str]\n",
    "\n",
    "class StreamingState(TypedDict):\n",
    "    contraints: str\n",
    "    topics: list[str]\n",
    "    jokes: Annotated[list[str], add]\n",
    "    best_joke: str\n",
    "\n",
    "class JokeState(TypedDict):\n",
    "    topic: str\n",
    "    contraints: str\n",
    "\n",
    "# NODES\n",
    "async def generate_topics(state: StreamingState):\n",
    "    model = ChatOpenAI(model=\"gpt-4o-mini\").with_structured_output(GeneratedTopics)\n",
    "    response = PromptTemplate.from_template(\n",
    "        \"Generate a list of 3 random one word topics for jokes suitable for theses given constraint. Do not generate the jokes only the topics.\\n\"\n",
    "        \"Here are the constraints: {input}.\"\n",
    "    ).pipe(model).invoke({\"input\": state[\"contraints\"]}, config=setup_config([\"generate_topics\"]))\n",
    "    return {\"topics\": GeneratedTopics.model_validate(response).topics}\n",
    "    \n",
    "async def generate_joke(state: JokeState):\n",
    "    model = ChatOpenAI(model=\"gpt-4o-mini\")\n",
    "    response = PromptTemplate.from_template(\n",
    "        \"Generate a short joke about {topic} that is suitable for theses given constraint: {contraints}.\"\n",
    "    ).pipe(model).invoke({\"topic\": state[\"topic\"], \"contraints\": state[\"contraints\"]}, config=setup_config([\"generate_joke\"]))\n",
    "    return {\"jokes\": [response.content]}\n",
    "\n",
    "async def select_best_joke(state: StreamingState):\n",
    "    model = ChatOpenAI(model=\"gpt-4o-mini\")\n",
    "    response = PromptTemplate.from_template(\n",
    "        \"Here are three jokes, select the most appropriate one for theses given constraint: {contraints}.\\n. Your response must be only the selected joke, nothing else.\\n Here are the jokes:\\n{jokes}\\n\"\n",
    "    ).pipe(model).invoke({\"jokes\": \"\\n\".join(state[\"jokes\"]), \"contraints\": state[\"contraints\"]}, config=setup_config([\"select_best_joke\"]))\n",
    "    return {\"best_joke\": response.content}\n",
    "\n",
    "def parallelize(state: StreamingState):\n",
    "    # Return a list of Send actions to invoke node2 in parallel\n",
    "    return [Send(\"generate_joke\", {\"topic\": topic, \"contraints\": state[\"contraints\"]}) for topic in state[\"topics\"]]\n",
    "\n",
    "\n",
    "# GRAPH\n",
    "graph_builder = StateGraph(StreamingState)\n",
    "\n",
    "graph_builder.add_node(generate_topics)\n",
    "graph_builder.add_node(generate_joke)\n",
    "graph_builder.add_node(select_best_joke)\n",
    "\n",
    "graph_builder.add_edge(START, \"generate_topics\")\n",
    "graph_builder.add_conditional_edges(\"generate_topics\",parallelize, [\"generate_joke\"])\n",
    "graph_builder.add_edge(\"generate_joke\", \"select_best_joke\")\n",
    "joke_graph = graph_builder.compile()\n",
    "\n",
    "output = await joke_graph.ainvoke({\"contraints\": \"An inoffensive joke about animals, suitable for a young kid\",})\n",
    "output"
   ]
  }
 ],
 "metadata": {
  "kernelspec": {
   "display_name": ".venv",
   "language": "python",
   "name": "python3"
  },
  "language_info": {
   "codemirror_mode": {
    "name": "ipython",
    "version": 3
   },
   "file_extension": ".py",
   "mimetype": "text/x-python",
   "name": "python",
   "nbconvert_exporter": "python",
   "pygments_lexer": "ipython3",
   "version": "3.12.3"
  }
 },
 "nbformat": 4,
 "nbformat_minor": 2
}
